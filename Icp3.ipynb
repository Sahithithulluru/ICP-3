{
  "nbformat": 4,
  "nbformat_minor": 0,
  "metadata": {
    "colab": {
      "provenance": []
    },
    "kernelspec": {
      "name": "python3",
      "display_name": "Python 3"
    },
    "language_info": {
      "name": "python"
    }
  },
  "cells": [
    {
      "cell_type": "code",
      "execution_count": null,
      "metadata": {
        "colab": {
          "base_uri": "https://localhost:8080/"
        },
        "id": "Y9H6_cMoaFF2",
        "outputId": "92fff754-90a6-44b6-d2a3-2351e14702d8"
      },
      "outputs": [
        {
          "output_type": "stream",
          "name": "stdout",
          "text": [
            "Total number of employees: 4\n",
            "Average salary: 75000.0\n"
          ]
        }
      ],
      "source": [
        "class Employee:\n",
        "    num_employees = 0\n",
        "\n",
        "    def __init__(self, name, family, salary, department):\n",
        "        self.name = name\n",
        "        self.family = family\n",
        "        self.salary = salary\n",
        "        self.department = department\n",
        "        Employee.num_employees += 1\n",
        "\n",
        "    @staticmethod\n",
        "    def average_salary(employees):\n",
        "        total_salary = sum(emp.salary for emp in employees)\n",
        "        return total_salary / len(employees)\n",
        "\n",
        "class FulltimeEmployee(Employee):\n",
        "    def __init__(self, name, family, salary, department, experience):\n",
        "        super().__init__(name, family, salary, department)\n",
        "        self.experience = experience\n",
        "\n",
        "employee1 = Employee(\"Tina\", \"Family A\", 80000, \"Manager\")\n",
        "employee2 = Employee(\"Sony\", \"Family B\", 90000, \"HR\")\n",
        "\n",
        "fulltime_employee1 = FulltimeEmployee(\"Teju\", \"Family C\", 60000, \"IT\", 5)\n",
        "fulltime_employee2 = FulltimeEmployee(\"denial klein\", \"Family D\", 70000, \"Engineering\", 7)\n",
        "\n",
        "employees = [employee1, employee2, fulltime_employee1, fulltime_employee2]\n",
        "avg_salary = Employee.average_salary(employees)\n",
        "\n",
        "print(\"Total number of employees:\", Employee.num_employees)\n",
        "print(\"Average salary:\", avg_salary)\n"
      ]
    },
    {
      "cell_type": "code",
      "source": [
        "import numpy as np\n",
        "random_vector = np.random.uniform(1, 20, size=20)\n",
        "print(\"Original array:\")\n",
        "print(random_vector)\n",
        "\n",
        "reshaped_array = random_vector.reshape(4, 5)\n",
        "\n",
        "max_indices = np.argmax(reshaped_array, axis=1)\n",
        "\n",
        "reshaped_array[np.arange(4), max_indices] = 0\n",
        "\n",
        "print(\"\\nReshaped array:\")\n",
        "print(reshaped_array)\n"
      ],
      "metadata": {
        "colab": {
          "base_uri": "https://localhost:8080/"
        },
        "id": "2J8ySKdhaGeT",
        "outputId": "9a8ddd85-c168-4a91-a355-76f12fd0d431"
      },
      "execution_count": null,
      "outputs": [
        {
          "output_type": "stream",
          "name": "stdout",
          "text": [
            "Original array:\n",
            "[15.18899937  4.36887899  4.46428028 18.20534568  9.64358665 14.92202489\n",
            "  4.53452766  8.77560599  8.35979169 16.11471042  5.50018786  8.64680085\n",
            "  7.57532706 17.22517539 10.29482561  3.22786403 17.48553228 10.65494929\n",
            "  4.642088    7.76646111]\n",
            "\n",
            "Reshaped array:\n",
            "[[15.18899937  4.36887899  4.46428028  0.          9.64358665]\n",
            " [14.92202489  4.53452766  8.77560599  8.35979169  0.        ]\n",
            " [ 5.50018786  8.64680085  7.57532706  0.         10.29482561]\n",
            " [ 3.22786403  0.         10.65494929  4.642088    7.76646111]]\n"
          ]
        }
      ]
    },
    {
      "cell_type": "code",
      "source": [],
      "metadata": {
        "id": "G4FdgJckaWmB"
      },
      "execution_count": null,
      "outputs": []
    }
  ]
}
